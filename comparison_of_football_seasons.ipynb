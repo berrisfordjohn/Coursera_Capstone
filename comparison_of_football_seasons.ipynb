{
 "cells": [
  {
   "cell_type": "code",
   "execution_count": 272,
   "metadata": {
    "collapsed": true
   },
   "outputs": [],
   "source": [
    "import matplotlib.pyplot as plt\n",
    "from matplotlib.ticker import MaxNLocator\n",
    "import pandas as pd\n",
    "import numpy as np"
   ]
  },
  {
   "cell_type": "code",
   "execution_count": 16,
   "outputs": [],
   "source": [
    "premier_league_start_year = '1992'\n",
    "liverpool_url = 'https://en.wikipedia.org/wiki/List_of_Liverpool_F.C._seasons'\n",
    "man_u_url = 'https://en.wikipedia.org/wiki/List_of_Manchester_United_F.C._seasons'\n",
    "arsenal_url = 'https://en.wikipedia.org/wiki/List_of_Arsenal_F.C._seasons'\n",
    "man_city_url = 'https://en.wikipedia.org/wiki/List_of_Manchester_City_F.C._seasons'"
   ],
   "metadata": {
    "collapsed": false,
    "pycharm": {
     "name": "#%%\n"
    }
   }
  },
  {
   "cell_type": "code",
   "execution_count": 252,
   "outputs": [
    {
     "data": {
      "text/plain": "     Season Division   P   W   D   L   F   A Pts  Pos FA Cup EFL Cup  \\\n92  1992–93       PL  42  16  11  15  62  55  59  6th     R3      R4   \n93  1993–94       PL  42  17   9  16  59  55  60  8th     R3      R4   \n94  1994–95       PL  42  21  11  10  65  37  74  4th     R6       W   \n95  1995–96       PL  38  20  11   7  70  34  71  3rd     RU      R4   \n96  1996–97       PL  38  19  11   8  62  37  68  4th     R4      R5   \n\n   Comm. Shield CL  EL CWC Super Cup Club World Cup           Name Goals  \n92           RU  —   —  R2         —              —       Ian Rush    22  \n93            —  —   —   —         —              —       Ian Rush    19  \n94            —  —   —   —         —              —  Robbie Fowler    31  \n95            —  —  R2   —         —              —  Robbie Fowler    36  \n96            —  —   —  SF         —              —  Robbie Fowler    31  ",
      "text/html": "<div>\n<style scoped>\n    .dataframe tbody tr th:only-of-type {\n        vertical-align: middle;\n    }\n\n    .dataframe tbody tr th {\n        vertical-align: top;\n    }\n\n    .dataframe thead th {\n        text-align: right;\n    }\n</style>\n<table border=\"1\" class=\"dataframe\">\n  <thead>\n    <tr style=\"text-align: right;\">\n      <th></th>\n      <th>Season</th>\n      <th>Division</th>\n      <th>P</th>\n      <th>W</th>\n      <th>D</th>\n      <th>L</th>\n      <th>F</th>\n      <th>A</th>\n      <th>Pts</th>\n      <th>Pos</th>\n      <th>FA Cup</th>\n      <th>EFL Cup</th>\n      <th>Comm. Shield</th>\n      <th>CL</th>\n      <th>EL</th>\n      <th>CWC</th>\n      <th>Super Cup</th>\n      <th>Club World Cup</th>\n      <th>Name</th>\n      <th>Goals</th>\n    </tr>\n  </thead>\n  <tbody>\n    <tr>\n      <th>92</th>\n      <td>1992–93</td>\n      <td>PL</td>\n      <td>42</td>\n      <td>16</td>\n      <td>11</td>\n      <td>15</td>\n      <td>62</td>\n      <td>55</td>\n      <td>59</td>\n      <td>6th</td>\n      <td>R3</td>\n      <td>R4</td>\n      <td>RU</td>\n      <td>—</td>\n      <td>—</td>\n      <td>R2</td>\n      <td>—</td>\n      <td>—</td>\n      <td>Ian Rush</td>\n      <td>22</td>\n    </tr>\n    <tr>\n      <th>93</th>\n      <td>1993–94</td>\n      <td>PL</td>\n      <td>42</td>\n      <td>17</td>\n      <td>9</td>\n      <td>16</td>\n      <td>59</td>\n      <td>55</td>\n      <td>60</td>\n      <td>8th</td>\n      <td>R3</td>\n      <td>R4</td>\n      <td>—</td>\n      <td>—</td>\n      <td>—</td>\n      <td>—</td>\n      <td>—</td>\n      <td>—</td>\n      <td>Ian Rush</td>\n      <td>19</td>\n    </tr>\n    <tr>\n      <th>94</th>\n      <td>1994–95</td>\n      <td>PL</td>\n      <td>42</td>\n      <td>21</td>\n      <td>11</td>\n      <td>10</td>\n      <td>65</td>\n      <td>37</td>\n      <td>74</td>\n      <td>4th</td>\n      <td>R6</td>\n      <td>W</td>\n      <td>—</td>\n      <td>—</td>\n      <td>—</td>\n      <td>—</td>\n      <td>—</td>\n      <td>—</td>\n      <td>Robbie Fowler</td>\n      <td>31</td>\n    </tr>\n    <tr>\n      <th>95</th>\n      <td>1995–96</td>\n      <td>PL</td>\n      <td>38</td>\n      <td>20</td>\n      <td>11</td>\n      <td>7</td>\n      <td>70</td>\n      <td>34</td>\n      <td>71</td>\n      <td>3rd</td>\n      <td>RU</td>\n      <td>R4</td>\n      <td>—</td>\n      <td>—</td>\n      <td>R2</td>\n      <td>—</td>\n      <td>—</td>\n      <td>—</td>\n      <td>Robbie Fowler</td>\n      <td>36</td>\n    </tr>\n    <tr>\n      <th>96</th>\n      <td>1996–97</td>\n      <td>PL</td>\n      <td>38</td>\n      <td>19</td>\n      <td>11</td>\n      <td>8</td>\n      <td>62</td>\n      <td>37</td>\n      <td>68</td>\n      <td>4th</td>\n      <td>R4</td>\n      <td>R5</td>\n      <td>—</td>\n      <td>—</td>\n      <td>—</td>\n      <td>SF</td>\n      <td>—</td>\n      <td>—</td>\n      <td>Robbie Fowler</td>\n      <td>31</td>\n    </tr>\n  </tbody>\n</table>\n</div>"
     },
     "execution_count": 252,
     "metadata": {},
     "output_type": "execute_result"
    }
   ],
   "source": [
    "tables = pd.read_html(liverpool_url)\n",
    "liverpool_df = tables[2]\n",
    "liverpool_df = liverpool_df[liverpool_df['League', 'Division'] == 'PL']\n",
    "liverpool_df.columns = liverpool_df.columns.droplevel(0)\n",
    "liverpool_df.head()"
   ],
   "metadata": {
    "collapsed": false,
    "pycharm": {
     "name": "#%%\n"
    }
   }
  },
  {
   "cell_type": "code",
   "execution_count": 253,
   "outputs": [
    {
     "data": {
      "text/plain": "      Season Division   P   W   D  L  GF  GA Pts  Pos      FA Cup     EFL Cup  \\\n98   1992–93     Prem  42  24  12  6  67  31  84  1st          R5          R3   \n99   1993–94     Prem  42  27  11  4  80  38  92  1st     Winners  Runners-up   \n100  1994–95     Prem  42  26  10  6  77  28  88  2nd  Runners-up          R3   \n101  1995–96     Prem  38  25   7  6  73  35  82  1st     Winners          R2   \n102  1996–97     Prem  38  21  12  5  76  44  75  1st          R4          R4   \n\n    CommunityShield                  UEFAFIFA              Name(s) Goals  \n98              NaN             UEFA Cup – R1          Mark Hughes    16  \n99          Winners     Champions League – R2         Eric Cantona    25  \n100         Winners  Champions League – Group   Andrei Kanchelskis    15  \n101             NaN             UEFA Cup – R1         Eric Cantona    19  \n102         Winners     Champions League – SF  Ole Gunnar Solskjær    19  ",
      "text/html": "<div>\n<style scoped>\n    .dataframe tbody tr th:only-of-type {\n        vertical-align: middle;\n    }\n\n    .dataframe tbody tr th {\n        vertical-align: top;\n    }\n\n    .dataframe thead th {\n        text-align: right;\n    }\n</style>\n<table border=\"1\" class=\"dataframe\">\n  <thead>\n    <tr style=\"text-align: right;\">\n      <th></th>\n      <th>Season</th>\n      <th>Division</th>\n      <th>P</th>\n      <th>W</th>\n      <th>D</th>\n      <th>L</th>\n      <th>GF</th>\n      <th>GA</th>\n      <th>Pts</th>\n      <th>Pos</th>\n      <th>FA Cup</th>\n      <th>EFL Cup</th>\n      <th>CommunityShield</th>\n      <th>UEFAFIFA</th>\n      <th>Name(s)</th>\n      <th>Goals</th>\n    </tr>\n  </thead>\n  <tbody>\n    <tr>\n      <th>98</th>\n      <td>1992–93</td>\n      <td>Prem</td>\n      <td>42</td>\n      <td>24</td>\n      <td>12</td>\n      <td>6</td>\n      <td>67</td>\n      <td>31</td>\n      <td>84</td>\n      <td>1st</td>\n      <td>R5</td>\n      <td>R3</td>\n      <td>NaN</td>\n      <td>UEFA Cup – R1</td>\n      <td>Mark Hughes</td>\n      <td>16</td>\n    </tr>\n    <tr>\n      <th>99</th>\n      <td>1993–94</td>\n      <td>Prem</td>\n      <td>42</td>\n      <td>27</td>\n      <td>11</td>\n      <td>4</td>\n      <td>80</td>\n      <td>38</td>\n      <td>92</td>\n      <td>1st</td>\n      <td>Winners</td>\n      <td>Runners-up</td>\n      <td>Winners</td>\n      <td>Champions League – R2</td>\n      <td>Eric Cantona</td>\n      <td>25</td>\n    </tr>\n    <tr>\n      <th>100</th>\n      <td>1994–95</td>\n      <td>Prem</td>\n      <td>42</td>\n      <td>26</td>\n      <td>10</td>\n      <td>6</td>\n      <td>77</td>\n      <td>28</td>\n      <td>88</td>\n      <td>2nd</td>\n      <td>Runners-up</td>\n      <td>R3</td>\n      <td>Winners</td>\n      <td>Champions League – Group</td>\n      <td>Andrei Kanchelskis</td>\n      <td>15</td>\n    </tr>\n    <tr>\n      <th>101</th>\n      <td>1995–96</td>\n      <td>Prem</td>\n      <td>38</td>\n      <td>25</td>\n      <td>7</td>\n      <td>6</td>\n      <td>73</td>\n      <td>35</td>\n      <td>82</td>\n      <td>1st</td>\n      <td>Winners</td>\n      <td>R2</td>\n      <td>NaN</td>\n      <td>UEFA Cup – R1</td>\n      <td>Eric Cantona</td>\n      <td>19</td>\n    </tr>\n    <tr>\n      <th>102</th>\n      <td>1996–97</td>\n      <td>Prem</td>\n      <td>38</td>\n      <td>21</td>\n      <td>12</td>\n      <td>5</td>\n      <td>76</td>\n      <td>44</td>\n      <td>75</td>\n      <td>1st</td>\n      <td>R4</td>\n      <td>R4</td>\n      <td>Winners</td>\n      <td>Champions League – SF</td>\n      <td>Ole Gunnar Solskjær</td>\n      <td>19</td>\n    </tr>\n  </tbody>\n</table>\n</div>"
     },
     "execution_count": 253,
     "metadata": {},
     "output_type": "execute_result"
    }
   ],
   "source": [
    "tables = pd.read_html(man_u_url)\n",
    "man_u_df = tables[2]\n",
    "man_u_df = man_u_df[man_u_df['League', 'Division'] == 'Prem']\n",
    "man_u_df.columns = man_u_df.columns.droplevel(0)\n",
    "man_u_df.head()"
   ],
   "metadata": {
    "collapsed": false,
    "pycharm": {
     "name": "#%%\n"
    }
   }
  },
  {
   "cell_type": "code",
   "execution_count": 254,
   "outputs": [
    {
     "data": {
      "text/plain": "      Season Division   P   W   D   L  GF  GA Pts   Pos FA Cup[56][d]  \\\n99   1992–93     Prem  42  15  11  16  40  38  56  10th             W   \n100  1993–94     Prem  42  18  17   7  53  28  71   4th            R4   \n101  1994–95     Prem  42  13  12  17  52  49  51  12th            R3   \n102  1995–96     Prem  38  17  12   9  49  32  63   5th            R3   \n103  1996–97     Prem  38  19  11   8  62  32  68   3rd            R4   \n\n    LeagueCup[57] CommunityShield[57]                Competition Result  \\\n99              W                   —                          —      —   \n100            R4                  RU           Cup Winners' Cup      W   \n101            QF                   —  Cup Winners' CupSuper Cup   RURU   \n102            SF                   —                          —      —   \n103            R4                   —                   UEFA Cup     R1   \n\n        Name(s) Goals  \n99   Ian Wright    30  \n100  Ian Wright    35  \n101  Ian Wright    30  \n102  Ian Wright    22  \n103  Ian Wright    30  ",
      "text/html": "<div>\n<style scoped>\n    .dataframe tbody tr th:only-of-type {\n        vertical-align: middle;\n    }\n\n    .dataframe tbody tr th {\n        vertical-align: top;\n    }\n\n    .dataframe thead th {\n        text-align: right;\n    }\n</style>\n<table border=\"1\" class=\"dataframe\">\n  <thead>\n    <tr style=\"text-align: right;\">\n      <th></th>\n      <th>Season</th>\n      <th>Division</th>\n      <th>P</th>\n      <th>W</th>\n      <th>D</th>\n      <th>L</th>\n      <th>GF</th>\n      <th>GA</th>\n      <th>Pts</th>\n      <th>Pos</th>\n      <th>FA Cup[56][d]</th>\n      <th>LeagueCup[57]</th>\n      <th>CommunityShield[57]</th>\n      <th>Competition</th>\n      <th>Result</th>\n      <th>Name(s)</th>\n      <th>Goals</th>\n    </tr>\n  </thead>\n  <tbody>\n    <tr>\n      <th>99</th>\n      <td>1992–93</td>\n      <td>Prem</td>\n      <td>42</td>\n      <td>15</td>\n      <td>11</td>\n      <td>16</td>\n      <td>40</td>\n      <td>38</td>\n      <td>56</td>\n      <td>10th</td>\n      <td>W</td>\n      <td>W</td>\n      <td>—</td>\n      <td>—</td>\n      <td>—</td>\n      <td>Ian Wright</td>\n      <td>30</td>\n    </tr>\n    <tr>\n      <th>100</th>\n      <td>1993–94</td>\n      <td>Prem</td>\n      <td>42</td>\n      <td>18</td>\n      <td>17</td>\n      <td>7</td>\n      <td>53</td>\n      <td>28</td>\n      <td>71</td>\n      <td>4th</td>\n      <td>R4</td>\n      <td>R4</td>\n      <td>RU</td>\n      <td>Cup Winners' Cup</td>\n      <td>W</td>\n      <td>Ian Wright</td>\n      <td>35</td>\n    </tr>\n    <tr>\n      <th>101</th>\n      <td>1994–95</td>\n      <td>Prem</td>\n      <td>42</td>\n      <td>13</td>\n      <td>12</td>\n      <td>17</td>\n      <td>52</td>\n      <td>49</td>\n      <td>51</td>\n      <td>12th</td>\n      <td>R3</td>\n      <td>QF</td>\n      <td>—</td>\n      <td>Cup Winners' CupSuper Cup</td>\n      <td>RURU</td>\n      <td>Ian Wright</td>\n      <td>30</td>\n    </tr>\n    <tr>\n      <th>102</th>\n      <td>1995–96</td>\n      <td>Prem</td>\n      <td>38</td>\n      <td>17</td>\n      <td>12</td>\n      <td>9</td>\n      <td>49</td>\n      <td>32</td>\n      <td>63</td>\n      <td>5th</td>\n      <td>R3</td>\n      <td>SF</td>\n      <td>—</td>\n      <td>—</td>\n      <td>—</td>\n      <td>Ian Wright</td>\n      <td>22</td>\n    </tr>\n    <tr>\n      <th>103</th>\n      <td>1996–97</td>\n      <td>Prem</td>\n      <td>38</td>\n      <td>19</td>\n      <td>11</td>\n      <td>8</td>\n      <td>62</td>\n      <td>32</td>\n      <td>68</td>\n      <td>3rd</td>\n      <td>R4</td>\n      <td>R4</td>\n      <td>—</td>\n      <td>UEFA Cup</td>\n      <td>R1</td>\n      <td>Ian Wright</td>\n      <td>30</td>\n    </tr>\n  </tbody>\n</table>\n</div>"
     },
     "execution_count": 254,
     "metadata": {},
     "output_type": "execute_result"
    }
   ],
   "source": [
    "tables = pd.read_html(arsenal_url)\n",
    "arsenal_df = tables[3]\n",
    "arsenal_df = arsenal_df[arsenal_df['Division', 'League[58]'] == 'Prem']\n",
    "arsenal_df.columns = arsenal_df.columns.droplevel(1)\n",
    "arsenal_df.head()"
   ],
   "metadata": {
    "collapsed": false,
    "pycharm": {
     "name": "#%%\n"
    }
   }
  },
  {
   "cell_type": "code",
   "execution_count": 255,
   "outputs": [
    {
     "data": {
      "text/plain": "      Season Division (Tier)   P   W   D   L  GF  GA Pts   Pos FA Cup  \\\n114  1993–94        Prem (1)  42   9  18  15  38  49  45  16th     R4   \n115  1994–95        Prem (1)  42  12  13  17  53  64  49  17th     R5   \n116  1995–96        Prem (1)  38   9  11  18  33  58  38  18th     R5   \n121  2000–01        Prem (1)  38   8  10  20  41  65  34  18th     R5   \n123  2002–03        Prem (1)  38  15   6  17  47  54  51   9th     R3   \n\n    League Cup UEFA, FIFA / Other UEFA, FIFA / Other.1  \\\n114         R4                NaN                  NaN   \n115         QF                NaN                  NaN   \n116         R3                NaN                  NaN   \n121         QF                NaN                  NaN   \n123         R3                NaN                  NaN   \n\n              Top scorer[a] Goals  \n114  Niall QuinnMike Sheron     6  \n115              Uwe Rösler    22  \n116              Uwe Rösler    13  \n121            Shaun Goater    11  \n123          Nicolas Anelka    14  ",
      "text/html": "<div>\n<style scoped>\n    .dataframe tbody tr th:only-of-type {\n        vertical-align: middle;\n    }\n\n    .dataframe tbody tr th {\n        vertical-align: top;\n    }\n\n    .dataframe thead th {\n        text-align: right;\n    }\n</style>\n<table border=\"1\" class=\"dataframe\">\n  <thead>\n    <tr style=\"text-align: right;\">\n      <th></th>\n      <th>Season</th>\n      <th>Division (Tier)</th>\n      <th>P</th>\n      <th>W</th>\n      <th>D</th>\n      <th>L</th>\n      <th>GF</th>\n      <th>GA</th>\n      <th>Pts</th>\n      <th>Pos</th>\n      <th>FA Cup</th>\n      <th>League Cup</th>\n      <th>UEFA, FIFA / Other</th>\n      <th>UEFA, FIFA / Other.1</th>\n      <th>Top scorer[a]</th>\n      <th>Goals</th>\n    </tr>\n  </thead>\n  <tbody>\n    <tr>\n      <th>114</th>\n      <td>1993–94</td>\n      <td>Prem (1)</td>\n      <td>42</td>\n      <td>9</td>\n      <td>18</td>\n      <td>15</td>\n      <td>38</td>\n      <td>49</td>\n      <td>45</td>\n      <td>16th</td>\n      <td>R4</td>\n      <td>R4</td>\n      <td>NaN</td>\n      <td>NaN</td>\n      <td>Niall QuinnMike Sheron</td>\n      <td>6</td>\n    </tr>\n    <tr>\n      <th>115</th>\n      <td>1994–95</td>\n      <td>Prem (1)</td>\n      <td>42</td>\n      <td>12</td>\n      <td>13</td>\n      <td>17</td>\n      <td>53</td>\n      <td>64</td>\n      <td>49</td>\n      <td>17th</td>\n      <td>R5</td>\n      <td>QF</td>\n      <td>NaN</td>\n      <td>NaN</td>\n      <td>Uwe Rösler</td>\n      <td>22</td>\n    </tr>\n    <tr>\n      <th>116</th>\n      <td>1995–96</td>\n      <td>Prem (1)</td>\n      <td>38</td>\n      <td>9</td>\n      <td>11</td>\n      <td>18</td>\n      <td>33</td>\n      <td>58</td>\n      <td>38</td>\n      <td>18th</td>\n      <td>R5</td>\n      <td>R3</td>\n      <td>NaN</td>\n      <td>NaN</td>\n      <td>Uwe Rösler</td>\n      <td>13</td>\n    </tr>\n    <tr>\n      <th>121</th>\n      <td>2000–01</td>\n      <td>Prem (1)</td>\n      <td>38</td>\n      <td>8</td>\n      <td>10</td>\n      <td>20</td>\n      <td>41</td>\n      <td>65</td>\n      <td>34</td>\n      <td>18th</td>\n      <td>R5</td>\n      <td>QF</td>\n      <td>NaN</td>\n      <td>NaN</td>\n      <td>Shaun Goater</td>\n      <td>11</td>\n    </tr>\n    <tr>\n      <th>123</th>\n      <td>2002–03</td>\n      <td>Prem (1)</td>\n      <td>38</td>\n      <td>15</td>\n      <td>6</td>\n      <td>17</td>\n      <td>47</td>\n      <td>54</td>\n      <td>51</td>\n      <td>9th</td>\n      <td>R3</td>\n      <td>R3</td>\n      <td>NaN</td>\n      <td>NaN</td>\n      <td>Nicolas Anelka</td>\n      <td>14</td>\n    </tr>\n  </tbody>\n</table>\n</div>"
     },
     "execution_count": 255,
     "metadata": {},
     "output_type": "execute_result"
    }
   ],
   "source": [
    "tables = pd.read_html(man_city_url)\n",
    "man_city_df = tables[0]\n",
    "man_city_df = man_city_df[man_city_df['League', 'Division (Tier)'] == 'Prem (1)']\n",
    "man_city_df.columns = man_city_df.columns.droplevel(0)\n",
    "man_city_df.head()\n"
   ],
   "metadata": {
    "collapsed": false,
    "pycharm": {
     "name": "#%%\n"
    }
   }
  },
  {
   "cell_type": "code",
   "execution_count": 256,
   "outputs": [],
   "source": [
    "dfs = [arsenal_df, man_city_df, man_u_df, liverpool_df]"
   ],
   "metadata": {
    "collapsed": false,
    "pycharm": {
     "name": "#%%\n"
    }
   }
  },
  {
   "cell_type": "code",
   "execution_count": 257,
   "outputs": [
    {
     "name": "stderr",
     "output_type": "stream",
     "text": [
      "c:\\program files (x86)\\python37-32\\lib\\site-packages\\pandas\\core\\frame.py:4164: SettingWithCopyWarning: \n",
      "A value is trying to be set on a copy of a slice from a DataFrame\n",
      "\n",
      "See the caveats in the documentation: https://pandas.pydata.org/pandas-docs/stable/user_guide/indexing.html#returning-a-view-versus-a-copy\n",
      "  errors=errors,\n",
      "c:\\program files (x86)\\python37-32\\lib\\site-packages\\ipykernel_launcher.py:3: SettingWithCopyWarning: \n",
      "A value is trying to be set on a copy of a slice from a DataFrame.\n",
      "Try using .loc[row_indexer,col_indexer] = value instead\n",
      "\n",
      "See the caveats in the documentation: https://pandas.pydata.org/pandas-docs/stable/user_guide/indexing.html#returning-a-view-versus-a-copy\n",
      "  This is separate from the ipykernel package so we can avoid doing imports until\n",
      "c:\\program files (x86)\\python37-32\\lib\\site-packages\\pandas\\core\\frame.py:4379: SettingWithCopyWarning: \n",
      "A value is trying to be set on a copy of a slice from a DataFrame\n",
      "\n",
      "See the caveats in the documentation: https://pandas.pydata.org/pandas-docs/stable/user_guide/indexing.html#returning-a-view-versus-a-copy\n",
      "  method=method,\n",
      "c:\\program files (x86)\\python37-32\\lib\\site-packages\\ipykernel_launcher.py:5: SettingWithCopyWarning: \n",
      "A value is trying to be set on a copy of a slice from a DataFrame\n",
      "\n",
      "See the caveats in the documentation: https://pandas.pydata.org/pandas-docs/stable/user_guide/indexing.html#returning-a-view-versus-a-copy\n",
      "  \"\"\"\n",
      "c:\\program files (x86)\\python37-32\\lib\\site-packages\\ipykernel_launcher.py:6: SettingWithCopyWarning: \n",
      "A value is trying to be set on a copy of a slice from a DataFrame.\n",
      "Try using .loc[row_indexer,col_indexer] = value instead\n",
      "\n",
      "See the caveats in the documentation: https://pandas.pydata.org/pandas-docs/stable/user_guide/indexing.html#returning-a-view-versus-a-copy\n",
      "  \n"
     ]
    }
   ],
   "source": [
    "for df in dfs:\n",
    "    df.drop(df.columns.difference(['Season','Pos']), 1, inplace=True)\n",
    "    df['Pos'] = df['Pos'].str.replace(r'\\D', '')\n",
    "    df.replace(r'^\\s*$', np.nan, regex=True, inplace=True)\n",
    "    df.dropna(inplace=True)\n",
    "    df['Pos'] = df['Pos'].astype(int)"
   ],
   "metadata": {
    "collapsed": false,
    "pycharm": {
     "name": "#%%\n"
    }
   }
  },
  {
   "cell_type": "code",
   "execution_count": 258,
   "outputs": [
    {
     "name": "stderr",
     "output_type": "stream",
     "text": [
      "c:\\program files (x86)\\python37-32\\lib\\site-packages\\ipykernel_launcher.py:4: SettingWithCopyWarning: \n",
      "A value is trying to be set on a copy of a slice from a DataFrame.\n",
      "Try using .loc[row_indexer,col_indexer] = value instead\n",
      "\n",
      "See the caveats in the documentation: https://pandas.pydata.org/pandas-docs/stable/user_guide/indexing.html#returning-a-view-versus-a-copy\n",
      "  after removing the cwd from sys.path.\n"
     ]
    }
   ],
   "source": [
    "liverpool_df['liverpool_position'] = liverpool_df['Pos']\n",
    "man_u_df['man_u_position'] = man_u_df['Pos']\n",
    "arsenal_df['arsenal_position'] = arsenal_df['Pos']\n",
    "man_city_df['man_city_position'] = man_city_df['Pos']"
   ],
   "metadata": {
    "collapsed": false,
    "pycharm": {
     "name": "#%%\n"
    }
   }
  },
  {
   "cell_type": "code",
   "execution_count": 259,
   "outputs": [
    {
     "name": "stderr",
     "output_type": "stream",
     "text": [
      "c:\\program files (x86)\\python37-32\\lib\\site-packages\\pandas\\core\\frame.py:4164: SettingWithCopyWarning: \n",
      "A value is trying to be set on a copy of a slice from a DataFrame\n",
      "\n",
      "See the caveats in the documentation: https://pandas.pydata.org/pandas-docs/stable/user_guide/indexing.html#returning-a-view-versus-a-copy\n",
      "  errors=errors,\n"
     ]
    }
   ],
   "source": [
    "for df in dfs:\n",
    "    df.drop('Pos', 1, inplace=True)"
   ],
   "metadata": {
    "collapsed": false,
    "pycharm": {
     "name": "#%%\n"
    }
   }
  },
  {
   "cell_type": "code",
   "execution_count": null,
   "outputs": [],
   "source": [
    "df = pd.merge(liverpool_df, man_u_df, on=['Season'])\n",
    "df = pd.merge(df, man_city_df, on=['Season'])\n",
    "df = pd.merge(df, arsenal_df, on=['Season'])"
   ],
   "metadata": {
    "collapsed": false,
    "pycharm": {
     "name": "#%%\n"
    }
   }
  },
  {
   "cell_type": "code",
   "execution_count": 262,
   "outputs": [
    {
     "data": {
      "text/plain": "     Season  liverpool_position  man_u_position  man_city_position  \\\n0   1993–94                   8               1                 16   \n1   1994–95                   4               2                 17   \n2   1995–96                   3               1                 18   \n3   2000–01                   3               1                 18   \n4   2002–03                   5               1                  9   \n5   2003–04                   4               3                 16   \n6   2004–05                   5               3                  8   \n7   2005–06                   3               2                 15   \n8   2006–07                   3               1                 14   \n9   2007–08                   4               1                  9   \n10  2008–09                   2               1                 10   \n11  2009–10                   7               2                  5   \n12  2010–11                   6               1                  3   \n13  2011–12                   8               2                  1   \n14  2011–12                   8               2                  1   \n15  2011–12                   8               2                  1   \n16  2012–13                   7               1                  2   \n17  2012–13                   7               1                  2   \n18  2013–14                   2               7                  1   \n19  2014–15                   6               4                  2   \n20  2014–15                   6               4                  2   \n21  2015–16                   8               5                  4   \n22  2016–17                   4               6                  3   \n23  2017–18                   4               2                  1   \n24  2018–19                   2               6                  1   \n25  2018–19                   2               6                  1   \n26  2019–20                   1               3                  2   \n27  2019–20                   1               3                  2   \n\n    arsenal_position  \n0                  4  \n1                 12  \n2                  5  \n3                  2  \n4                  2  \n5                  1  \n6                  2  \n7                  4  \n8                  4  \n9                  3  \n10                 4  \n11                 3  \n12                 4  \n13                 3  \n14                 3  \n15                 3  \n16                 4  \n17                 4  \n18                 4  \n19                 3  \n20                 3  \n21                 2  \n22                 5  \n23                 6  \n24                 5  \n25                 5  \n26                 8  \n27                 8  ",
      "text/html": "<div>\n<style scoped>\n    .dataframe tbody tr th:only-of-type {\n        vertical-align: middle;\n    }\n\n    .dataframe tbody tr th {\n        vertical-align: top;\n    }\n\n    .dataframe thead th {\n        text-align: right;\n    }\n</style>\n<table border=\"1\" class=\"dataframe\">\n  <thead>\n    <tr style=\"text-align: right;\">\n      <th></th>\n      <th>Season</th>\n      <th>liverpool_position</th>\n      <th>man_u_position</th>\n      <th>man_city_position</th>\n      <th>arsenal_position</th>\n    </tr>\n  </thead>\n  <tbody>\n    <tr>\n      <th>0</th>\n      <td>1993–94</td>\n      <td>8</td>\n      <td>1</td>\n      <td>16</td>\n      <td>4</td>\n    </tr>\n    <tr>\n      <th>1</th>\n      <td>1994–95</td>\n      <td>4</td>\n      <td>2</td>\n      <td>17</td>\n      <td>12</td>\n    </tr>\n    <tr>\n      <th>2</th>\n      <td>1995–96</td>\n      <td>3</td>\n      <td>1</td>\n      <td>18</td>\n      <td>5</td>\n    </tr>\n    <tr>\n      <th>3</th>\n      <td>2000–01</td>\n      <td>3</td>\n      <td>1</td>\n      <td>18</td>\n      <td>2</td>\n    </tr>\n    <tr>\n      <th>4</th>\n      <td>2002–03</td>\n      <td>5</td>\n      <td>1</td>\n      <td>9</td>\n      <td>2</td>\n    </tr>\n    <tr>\n      <th>5</th>\n      <td>2003–04</td>\n      <td>4</td>\n      <td>3</td>\n      <td>16</td>\n      <td>1</td>\n    </tr>\n    <tr>\n      <th>6</th>\n      <td>2004–05</td>\n      <td>5</td>\n      <td>3</td>\n      <td>8</td>\n      <td>2</td>\n    </tr>\n    <tr>\n      <th>7</th>\n      <td>2005–06</td>\n      <td>3</td>\n      <td>2</td>\n      <td>15</td>\n      <td>4</td>\n    </tr>\n    <tr>\n      <th>8</th>\n      <td>2006–07</td>\n      <td>3</td>\n      <td>1</td>\n      <td>14</td>\n      <td>4</td>\n    </tr>\n    <tr>\n      <th>9</th>\n      <td>2007–08</td>\n      <td>4</td>\n      <td>1</td>\n      <td>9</td>\n      <td>3</td>\n    </tr>\n    <tr>\n      <th>10</th>\n      <td>2008–09</td>\n      <td>2</td>\n      <td>1</td>\n      <td>10</td>\n      <td>4</td>\n    </tr>\n    <tr>\n      <th>11</th>\n      <td>2009–10</td>\n      <td>7</td>\n      <td>2</td>\n      <td>5</td>\n      <td>3</td>\n    </tr>\n    <tr>\n      <th>12</th>\n      <td>2010–11</td>\n      <td>6</td>\n      <td>1</td>\n      <td>3</td>\n      <td>4</td>\n    </tr>\n    <tr>\n      <th>13</th>\n      <td>2011–12</td>\n      <td>8</td>\n      <td>2</td>\n      <td>1</td>\n      <td>3</td>\n    </tr>\n    <tr>\n      <th>14</th>\n      <td>2011–12</td>\n      <td>8</td>\n      <td>2</td>\n      <td>1</td>\n      <td>3</td>\n    </tr>\n    <tr>\n      <th>15</th>\n      <td>2011–12</td>\n      <td>8</td>\n      <td>2</td>\n      <td>1</td>\n      <td>3</td>\n    </tr>\n    <tr>\n      <th>16</th>\n      <td>2012–13</td>\n      <td>7</td>\n      <td>1</td>\n      <td>2</td>\n      <td>4</td>\n    </tr>\n    <tr>\n      <th>17</th>\n      <td>2012–13</td>\n      <td>7</td>\n      <td>1</td>\n      <td>2</td>\n      <td>4</td>\n    </tr>\n    <tr>\n      <th>18</th>\n      <td>2013–14</td>\n      <td>2</td>\n      <td>7</td>\n      <td>1</td>\n      <td>4</td>\n    </tr>\n    <tr>\n      <th>19</th>\n      <td>2014–15</td>\n      <td>6</td>\n      <td>4</td>\n      <td>2</td>\n      <td>3</td>\n    </tr>\n    <tr>\n      <th>20</th>\n      <td>2014–15</td>\n      <td>6</td>\n      <td>4</td>\n      <td>2</td>\n      <td>3</td>\n    </tr>\n    <tr>\n      <th>21</th>\n      <td>2015–16</td>\n      <td>8</td>\n      <td>5</td>\n      <td>4</td>\n      <td>2</td>\n    </tr>\n    <tr>\n      <th>22</th>\n      <td>2016–17</td>\n      <td>4</td>\n      <td>6</td>\n      <td>3</td>\n      <td>5</td>\n    </tr>\n    <tr>\n      <th>23</th>\n      <td>2017–18</td>\n      <td>4</td>\n      <td>2</td>\n      <td>1</td>\n      <td>6</td>\n    </tr>\n    <tr>\n      <th>24</th>\n      <td>2018–19</td>\n      <td>2</td>\n      <td>6</td>\n      <td>1</td>\n      <td>5</td>\n    </tr>\n    <tr>\n      <th>25</th>\n      <td>2018–19</td>\n      <td>2</td>\n      <td>6</td>\n      <td>1</td>\n      <td>5</td>\n    </tr>\n    <tr>\n      <th>26</th>\n      <td>2019–20</td>\n      <td>1</td>\n      <td>3</td>\n      <td>2</td>\n      <td>8</td>\n    </tr>\n    <tr>\n      <th>27</th>\n      <td>2019–20</td>\n      <td>1</td>\n      <td>3</td>\n      <td>2</td>\n      <td>8</td>\n    </tr>\n  </tbody>\n</table>\n</div>"
     },
     "execution_count": 262,
     "metadata": {},
     "output_type": "execute_result"
    }
   ],
   "source": [
    "df"
   ],
   "metadata": {
    "collapsed": false,
    "pycharm": {
     "name": "#%%\n"
    }
   }
  },
  {
   "cell_type": "code",
   "execution_count": 274,
   "outputs": [],
   "source": [
    "fig, ax = plt.subplots()\n",
    "df.plot(x='Season', y='liverpool_position', ax=ax, c='r')\n",
    "df.plot(x='Season', y='man_u_position', ax=ax, c='g')\n",
    "df.plot(x='Season', y='man_city_position', ax=ax, c='c')\n",
    "df.plot(x='Season', y='arsenal_position', ax=ax, c='y')\n",
    "ax.invert_yaxis()\n",
    "plt.title('Finishing position in the Premier League')\n",
    "ax.yaxis.set_major_locator(MaxNLocator(integer=True))\n",
    "#plt.show()\n",
    "plt.savefig('premier_league_finish.png')\n",
    "plt.close()"
   ],
   "metadata": {
    "collapsed": false,
    "pycharm": {
     "name": "#%%\n"
    }
   }
  }
 ],
 "metadata": {
  "kernelspec": {
   "display_name": "Python 3",
   "language": "python",
   "name": "python3"
  },
  "language_info": {
   "codemirror_mode": {
    "name": "ipython",
    "version": 2
   },
   "file_extension": ".py",
   "mimetype": "text/x-python",
   "name": "python",
   "nbconvert_exporter": "python",
   "pygments_lexer": "ipython2",
   "version": "2.7.6"
  }
 },
 "nbformat": 4,
 "nbformat_minor": 0
}