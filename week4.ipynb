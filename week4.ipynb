{
 "cells": [
  {
   "cell_type": "markdown",
   "source": [
    "Parse table from Wikipedia webpage"
   ],
   "metadata": {
    "collapsed": false
   }
  },
  {
   "cell_type": "code",
   "execution_count": 2,
   "outputs": [],
   "source": [
    "import pandas as pd # library for data analysis\n",
    "from bs4 import BeautifulSoup # library to parse web pages\n",
    "import requests # library to handle requests\n",
    "import csv\n",
    "import folium # map rendering library\n",
    "from sklearn.cluster import KMeans\n",
    "import numpy as np\n",
    "# Matplotlib and associated plotting modules\n",
    "import matplotlib.cm as cm\n",
    "import matplotlib.colors as colors"
   ],
   "metadata": {
    "collapsed": false,
    "pycharm": {
     "name": "#%%\n"
    }
   }
  },
  {
   "cell_type": "markdown",
   "source": [
    "get credentials from local file"
   ],
   "metadata": {
    "collapsed": false,
    "pycharm": {
     "name": "#%% md\n"
    }
   }
  },
  {
   "cell_type": "code",
   "execution_count": 3,
   "outputs": [],
   "source": [
    "from credentials import CLIENT_ID, CLIENT_SECRET, VERSION, LIMIT\n"
   ],
   "metadata": {
    "collapsed": false,
    "pycharm": {
     "name": "#%%\n"
    }
   }
  },
  {
   "cell_type": "code",
   "execution_count": 5,
   "outputs": [],
   "source": [
    "coordinate_data = {}\n",
    "with open('Geospatial_Coordinates.csv') as in_file:\n",
    "    data = csv.DictReader(in_file)\n",
    "    for row in data:\n",
    "        coordinate_data[row['Postal Code']] = {'longitude': row['Longitude'],\n",
    "                                               'latitude': row['Latitude']}\n",
    "\n",
    "def get_coordinates(postal_code):\n",
    "    ret = coordinate_data.get(postal_code, {})\n",
    "    latitude = ret.get('latitude')\n",
    "    longitude = ret.get('longitude')\n",
    "    return longitude, latitude"
   ],
   "metadata": {
    "collapsed": false,
    "pycharm": {
     "name": "#%%\n"
    }
   }
  },
  {
   "cell_type": "code",
   "execution_count": 29,
   "outputs": [],
   "source": [
    "def get_data_from_wikipedia(url):\n",
    "    req = requests.get(url)\n",
    "    soup = BeautifulSoup(req.content, 'html.parser')\n",
    "    #print(soup.prettify())\n",
    "    data = []\n",
    "    table = soup.find('table', attrs={'class':'wikitable sortable'})\n",
    "    table_body = table.find('tbody')\n",
    "    #print(table_body)\n",
    "\n",
    "    # get the headers of the table and store in a list\n",
    "    table_headers = []\n",
    "    headers = table_body.find_all('th')\n",
    "    for header in headers:\n",
    "        header_value = header.get_text().strip()\n",
    "        table_headers.append(header_value)\n",
    "\n",
    "    row_key_remapping = {'Neighborhood': 'Neighbourhood'}\n",
    "\n",
    "    # get the rows of the table\n",
    "    rows = table_body.find_all('tr')\n",
    "    for row in rows:\n",
    "        row_data = {}\n",
    "        cells = row.find_all('td')\n",
    "        for position, cell in enumerate(cells):\n",
    "            value = cell.get_text().strip()\n",
    "            key = table_headers[position]\n",
    "            key = row_key_remapping[key] if key in row_key_remapping else key\n",
    "            # add the value to a dictionary\n",
    "            row_data[key] = value\n",
    "\n",
    "        # check that there is some data and that Borough is not unassigned\n",
    "        if row_data and row_data.get('Borough', '') != 'Not assigned':\n",
    "            data.append(row_data)\n",
    "\n",
    "\n",
    "    return data\n",
    "\n",
    "\n",
    "def load_data_into_dataframe(data):\n",
    "    df = pd.DataFrame(data)\n",
    "    # rename the postal code heading\n",
    "    df.rename(columns={\"Postal Code\": \"PostalCode\",\n",
    "                       \"Neighborhood\": \"Neighbourhood\"},\n",
    "              inplace=True)\n",
    "\n",
    "    return df\n",
    "\n",
    "def add_coordinates(df):\n",
    "    longitude = []\n",
    "    latitude = []\n",
    "\n",
    "    for index, row in df.iterrows():\n",
    "        postal_code = row.get('PostalCode')\n",
    "        row_long, row_lat = get_coordinates(postal_code=postal_code)\n",
    "        longitude.append(float(row_long))\n",
    "        latitude.append(float(row_lat))\n",
    "\n",
    "    df['Latitude'] = latitude\n",
    "    df['Longitude'] = longitude\n",
    "\n",
    "    return df\n",
    "\n",
    "\n",
    "def getNearbyVenues(names, latitudes, longitudes, radius=500):\n",
    "    venues_list=[]\n",
    "    for name, lat, lng in zip(names, latitudes, longitudes):\n",
    "        url = 'https://api.foursquare.com/v2/venues/explore?&client_id={}&client_secret={}&v={}&ll={},{}&radius={}&limit={}'.format(\n",
    "            CLIENT_ID,\n",
    "            CLIENT_SECRET,\n",
    "            VERSION,\n",
    "            lat,\n",
    "            lng,\n",
    "            radius,\n",
    "            LIMIT)\n",
    "        print(url)\n",
    "        results = requests.get(url).json()[\"response\"]['groups'][0]['items']\n",
    "        venues_list.append([(\n",
    "            name,\n",
    "            lat,\n",
    "            lng,\n",
    "            v['venue']['name'],\n",
    "            v['venue']['location']['lat'],\n",
    "            v['venue']['location']['lng'],\n",
    "            v['venue']['categories'][0]['name']) for v in results])\n",
    "\n",
    "    nearby_venues = pd.DataFrame([item for venue_list in venues_list for item in venue_list])\n",
    "    nearby_venues.columns = ['Neighborhood',\n",
    "                  'Neighborhood Latitude',\n",
    "                  'Neighborhood Longitude',\n",
    "                  'Venue',\n",
    "                  'Venue Latitude',\n",
    "                  'Venue Longitude',\n",
    "                  'Venue Category']\n",
    "\n",
    "    return nearby_venues\n",
    "\n",
    "\n",
    "def process_url(url):\n",
    "    data = get_data_from_wikipedia(url=url)\n",
    "    df = load_data_into_dataframe(data=data)\n",
    "    df = add_coordinates(df=df)\n",
    "    nearby_venues = getNearbyVenues(names=df['Neighbourhood'],\n",
    "                               latitudes=df['Latitude'],\n",
    "                               longitudes=df['Longitude'])\n",
    "    print('There are {} uniques categories.'.format(len(nearby_venues['Venue Category'].unique())))\n",
    "    temp_nearby_venues = nearby_venues\n",
    "    temp_nearby_venues['count'] = np.zeros(len(temp_nearby_venues))\n",
    "    venue_counts = temp_nearby_venues.groupby(['Neighbourhood', 'Venue Category']).count()\n",
    "    print(venue_counts[(venue_counts['count'] > 2)])\n",
    "    onehot = pd.get_dummies(nearby_venues[['Venue Category']], prefix=\"\", prefix_sep=\"\")\n",
    "    # add neighborhood column back to dataframe\n",
    "    onehot['Neighbourhood'] = nearby_venues['Neighbourhood']\n",
    "\n",
    "    grouped = onehot.groupby('Neighbourhood').mean().reset_index()\n",
    "    print(grouped.head())\n",
    "\n",
    "    return df, grouped\n",
    "\n",
    "# function to sort the venues in descending order\n",
    "def return_most_common_venues(row, num_top_venues):\n",
    "    row_categories = row.iloc[1:]\n",
    "    row_categories_sorted = row_categories.sort_values(ascending=False)\n",
    "\n",
    "    return row_categories_sorted.index.values[0:num_top_venues]\n",
    "\n",
    "\n",
    "def top_10_sorted(grouped):\n",
    "\n",
    "    num_top_venues = 10\n",
    "\n",
    "    indicators = ['st', 'nd', 'rd']\n",
    "\n",
    "    # create columns according to number of top venues\n",
    "    columns = ['Neighbourhood']\n",
    "    for ind in np.arange(num_top_venues):\n",
    "        try:\n",
    "            columns.append('{}{} Most Common Venue'.format(ind+1, indicators[ind]))\n",
    "        except:\n",
    "            columns.append('{}th Most Common Venue'.format(ind+1))\n",
    "\n",
    "    # create a new dataframe\n",
    "    neighborhoods_venues_sorted = pd.DataFrame(columns=columns)\n",
    "    neighborhoods_venues_sorted['Neighbourhood'] = grouped['Neighbourhood']\n",
    "\n",
    "    for ind in np.arange(grouped.shape[0]):\n",
    "        neighborhoods_venues_sorted.iloc[ind, 1:] = return_most_common_venues(grouped.iloc[ind, :], num_top_venues)\n",
    "\n",
    "    neighborhoods_venues_sorted.head()\n",
    "\n",
    "    return neighborhoods_venues_sorted\n",
    "\n",
    "def cluster_and_merge(df, grouped, neighborhoods_venues_sorted):\n",
    "\n",
    "    # set number of clusters\n",
    "    kclusters = 5\n",
    "\n",
    "    grouped_clustering = grouped.drop('Neighbourhood', 1)\n",
    "\n",
    "    # run k-means clustering\n",
    "    kmeans = KMeans(n_clusters=kclusters, random_state=0).fit(grouped_clustering)\n",
    "\n",
    "    # check cluster labels generated for each row in the dataframe\n",
    "    #kmeans.labels_[0:10]\n",
    "\n",
    "    # add clustering labels\n",
    "    neighborhoods_venues_sorted.insert(0, 'Cluster Labels', kmeans.labels_)\n",
    "\n",
    "    location_merged = df\n",
    "\n",
    "    # merge toronto_grouped with toronto_data to add latitude/longitude for each neighborhood\n",
    "    location_merged = location_merged.join(neighborhoods_venues_sorted.set_index('Neighborhood'), on='Neighborhood')\n",
    "\n",
    "    location_merged.head()\n",
    "\n",
    "    return location_merged\n",
    "\n",
    "\n",
    "def plot_clusters(df, kclusters):\n",
    "    # create map\n",
    "\n",
    "\n",
    "    map_clusters = folium.Map(location=[latitude, longitude], zoom_start=11)\n",
    "\n",
    "    df = df.dropna()\n",
    "    df['Cluster Labels'] = df['Cluster Labels'].astype('int')\n",
    "\n",
    "    # set color scheme for the clusters\n",
    "    x = np.arange(kclusters)\n",
    "    ys = [i + x + (i*x)**2 for i in range(kclusters)]\n",
    "    colors_array = cm.rainbow(np.linspace(0, 1, len(ys)))\n",
    "    rainbow = [colors.rgb2hex(i) for i in colors_array]\n",
    "\n",
    "    markers_colors = []\n",
    "    for index, row in df.iterrows():\n",
    "        postal_code = row['PostalCode']\n",
    "        lat = row['Latitude']\n",
    "        lon = row['Longitude']\n",
    "        neighbour = row['Neighbourhood']\n",
    "        cluster = row['Cluster Labels']\n",
    "        label = folium.Popup(str(postal_code) + ' Cluster ' + str(neighbour), parse_html=True)\n",
    "        folium.CircleMarker(\n",
    "            [lat, lon],\n",
    "            radius=5,\n",
    "            popup=label,\n",
    "            color=rainbow[cluster-1],\n",
    "            fill=True,\n",
    "            fill_color=rainbow[cluster-1],\n",
    "            fill_opacity=0.7).add_to(map_clusters)\n"
   ],
   "metadata": {
    "collapsed": false,
    "pycharm": {
     "name": "#%%\n"
    }
   }
  },
  {
   "cell_type": "code",
   "execution_count": 30,
   "outputs": [
    {
     "ename": "KeyError",
     "evalue": "'groups'",
     "output_type": "error",
     "traceback": [
      "\u001B[1;31m---------------------------------------------------------------------------\u001B[0m",
      "\u001B[1;31mKeyError\u001B[0m                                  Traceback (most recent call last)",
      "\u001B[1;32m<ipython-input-30-e8ebe3013d72>\u001B[0m in \u001B[0;36m<module>\u001B[1;34m\u001B[0m\n\u001B[0;32m      1\u001B[0m \u001B[1;33m\u001B[0m\u001B[0m\n\u001B[0;32m      2\u001B[0m \u001B[0murl\u001B[0m \u001B[1;33m=\u001B[0m \u001B[1;34m'https://en.wikipedia.org/wiki/List_of_postal_codes_of_Canada:_M'\u001B[0m\u001B[1;33m\u001B[0m\u001B[0m\n\u001B[1;32m----> 3\u001B[1;33m \u001B[0mtoronto_df\u001B[0m\u001B[1;33m,\u001B[0m \u001B[0mtoronto_grouped\u001B[0m \u001B[1;33m=\u001B[0m \u001B[0mprocess_url\u001B[0m\u001B[1;33m(\u001B[0m\u001B[0murl\u001B[0m\u001B[1;33m=\u001B[0m\u001B[0murl\u001B[0m\u001B[1;33m)\u001B[0m\u001B[1;33m\u001B[0m\u001B[0m\n\u001B[0m",
      "\u001B[1;32m<ipython-input-29-30149fd57f5b>\u001B[0m in \u001B[0;36mprocess_url\u001B[1;34m(url)\u001B[0m\n\u001B[0;32m    102\u001B[0m     nearby_venues = getNearbyVenues(names=df['Neighbourhood'],\n\u001B[0;32m    103\u001B[0m                                \u001B[0mlatitudes\u001B[0m\u001B[1;33m=\u001B[0m\u001B[0mdf\u001B[0m\u001B[1;33m[\u001B[0m\u001B[1;34m'Latitude'\u001B[0m\u001B[1;33m]\u001B[0m\u001B[1;33m,\u001B[0m\u001B[1;33m\u001B[0m\u001B[0m\n\u001B[1;32m--> 104\u001B[1;33m                                longitudes=df['Longitude'])\n\u001B[0m\u001B[0;32m    105\u001B[0m     \u001B[0mprint\u001B[0m\u001B[1;33m(\u001B[0m\u001B[1;34m'There are {} uniques categories.'\u001B[0m\u001B[1;33m.\u001B[0m\u001B[0mformat\u001B[0m\u001B[1;33m(\u001B[0m\u001B[0mlen\u001B[0m\u001B[1;33m(\u001B[0m\u001B[0mnearby_venues\u001B[0m\u001B[1;33m[\u001B[0m\u001B[1;34m'Venue Category'\u001B[0m\u001B[1;33m]\u001B[0m\u001B[1;33m.\u001B[0m\u001B[0munique\u001B[0m\u001B[1;33m(\u001B[0m\u001B[1;33m)\u001B[0m\u001B[1;33m)\u001B[0m\u001B[1;33m)\u001B[0m\u001B[1;33m)\u001B[0m\u001B[1;33m\u001B[0m\u001B[0m\n\u001B[0;32m    106\u001B[0m     \u001B[0mtemp_nearby_venues\u001B[0m \u001B[1;33m=\u001B[0m \u001B[0mnearby_venues\u001B[0m\u001B[1;33m\u001B[0m\u001B[0m\n",
      "\u001B[1;32m<ipython-input-29-30149fd57f5b>\u001B[0m in \u001B[0;36mgetNearbyVenues\u001B[1;34m(names, latitudes, longitudes, radius)\u001B[0m\n\u001B[0;32m     74\u001B[0m             \u001B[0mradius\u001B[0m\u001B[1;33m,\u001B[0m\u001B[1;33m\u001B[0m\u001B[0m\n\u001B[0;32m     75\u001B[0m             LIMIT)\n\u001B[1;32m---> 76\u001B[1;33m         \u001B[0mresults\u001B[0m \u001B[1;33m=\u001B[0m \u001B[0mrequests\u001B[0m\u001B[1;33m.\u001B[0m\u001B[0mget\u001B[0m\u001B[1;33m(\u001B[0m\u001B[0murl\u001B[0m\u001B[1;33m)\u001B[0m\u001B[1;33m.\u001B[0m\u001B[0mjson\u001B[0m\u001B[1;33m(\u001B[0m\u001B[1;33m)\u001B[0m\u001B[1;33m[\u001B[0m\u001B[1;34m\"response\"\u001B[0m\u001B[1;33m]\u001B[0m\u001B[1;33m[\u001B[0m\u001B[1;34m'groups'\u001B[0m\u001B[1;33m]\u001B[0m\u001B[1;33m[\u001B[0m\u001B[1;36m0\u001B[0m\u001B[1;33m]\u001B[0m\u001B[1;33m[\u001B[0m\u001B[1;34m'items'\u001B[0m\u001B[1;33m]\u001B[0m\u001B[1;33m\u001B[0m\u001B[0m\n\u001B[0m\u001B[0;32m     77\u001B[0m         venues_list.append([(\n\u001B[0;32m     78\u001B[0m             \u001B[0mname\u001B[0m\u001B[1;33m,\u001B[0m\u001B[1;33m\u001B[0m\u001B[0m\n",
      "\u001B[1;31mKeyError\u001B[0m: 'groups'"
     ]
    }
   ],
   "source": [
    "url = 'https://en.wikipedia.org/wiki/List_of_postal_codes_of_Canada:_M'\n",
    "toronto_df, toronto_grouped = process_url(url=url)"
   ],
   "metadata": {
    "collapsed": false,
    "pycharm": {
     "name": "#%%\n"
    }
   }
  },
  {
   "cell_type": "code",
   "execution_count": 22,
   "outputs": [
    {
     "ename": "NameError",
     "evalue": "name 'toronto_grouped' is not defined",
     "output_type": "error",
     "traceback": [
      "\u001B[1;31m---------------------------------------------------------------------------\u001B[0m",
      "\u001B[1;31mNameError\u001B[0m                                 Traceback (most recent call last)",
      "\u001B[1;32m<ipython-input-22-b1abd1322fd1>\u001B[0m in \u001B[0;36m<module>\u001B[1;34m\u001B[0m\n\u001B[1;32m----> 1\u001B[1;33m \u001B[0mtoronto_sorted_top_10\u001B[0m \u001B[1;33m=\u001B[0m \u001B[0mtop_10_sorted\u001B[0m\u001B[1;33m(\u001B[0m\u001B[0mtoronto_grouped\u001B[0m\u001B[1;33m)\u001B[0m\u001B[1;33m\u001B[0m\u001B[0m\n\u001B[0m",
      "\u001B[1;31mNameError\u001B[0m: name 'toronto_grouped' is not defined"
     ]
    }
   ],
   "source": [
    "toronto_sorted_top_10 = top_10_sorted(toronto_grouped)"
   ],
   "metadata": {
    "collapsed": false,
    "pycharm": {
     "name": "#%%\n"
    }
   }
  },
  {
   "cell_type": "code",
   "execution_count": 23,
   "outputs": [
    {
     "ename": "NameError",
     "evalue": "name 'toronto_df' is not defined",
     "output_type": "error",
     "traceback": [
      "\u001B[1;31m---------------------------------------------------------------------------\u001B[0m",
      "\u001B[1;31mNameError\u001B[0m                                 Traceback (most recent call last)",
      "\u001B[1;32m<ipython-input-23-cd4e1deeadc7>\u001B[0m in \u001B[0;36m<module>\u001B[1;34m\u001B[0m\n\u001B[1;32m----> 1\u001B[1;33m toronto_merged = cluster_and_merge(df=toronto_df, grouped=toronto_grouped,\n\u001B[0m\u001B[0;32m      2\u001B[0m                   neighborhoods_venues_sorted=toronto_sorted_top_10)\n\u001B[0;32m      3\u001B[0m \u001B[1;33m\u001B[0m\u001B[0m\n",
      "\u001B[1;31mNameError\u001B[0m: name 'toronto_df' is not defined"
     ]
    }
   ],
   "source": [
    "toronto_merged = cluster_and_merge(df=toronto_df, grouped=toronto_grouped,\n",
    "                  neighborhoods_venues_sorted=toronto_sorted_top_10)\n"
   ],
   "metadata": {
    "collapsed": false,
    "pycharm": {
     "name": "#%%\n"
    }
   }
  },
  {
   "cell_type": "code",
   "execution_count": null,
   "outputs": [],
   "source": [
    "plot_clusters(df=toronto_merged)\n",
    "\n"
   ],
   "metadata": {
    "collapsed": false,
    "pycharm": {
     "name": "#%%\n"
    }
   }
  }
 ],
 "metadata": {
  "kernelspec": {
   "display_name": "Python 3",
   "language": "python",
   "name": "python3"
  },
  "language_info": {
   "codemirror_mode": {
    "name": "ipython",
    "version": 2
   },
   "file_extension": ".py",
   "mimetype": "text/x-python",
   "name": "python",
   "nbconvert_exporter": "python",
   "pygments_lexer": "ipython2",
   "version": "2.7.6"
  }
 },
 "nbformat": 4,
 "nbformat_minor": 0
}