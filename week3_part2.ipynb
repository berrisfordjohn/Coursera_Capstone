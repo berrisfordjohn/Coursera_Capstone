{
 "cells": [
  {
   "cell_type": "markdown",
   "source": [
    "Parse table from Wikipedia webpage"
   ],
   "metadata": {
    "collapsed": false
   }
  },
  {
   "cell_type": "code",
   "execution_count": null,
   "outputs": [],
   "source": [
    "import pandas as pd # library for data analysis\n",
    "from bs4 import BeautifulSoup # library to parse web pages\n",
    "import requests # library to handle requests\n",
    "import csv"
   ],
   "metadata": {
    "collapsed": false,
    "pycharm": {
     "name": "#%%\n"
    }
   }
  },
  {
   "cell_type": "markdown",
   "source": [
    "Parse the website with BeautifulSoup - extracting the data from the table"
   ],
   "metadata": {
    "collapsed": false
   }
  },
  {
   "cell_type": "code",
   "execution_count": null,
   "outputs": [],
   "source": [
    "req = requests.get('https://en.wikipedia.org/wiki/List_of_postal_codes_of_Canada:_M')\n",
    "soup = BeautifulSoup(req.content, 'html.parser')\n",
    "#print(soup.prettify())\n",
    "data = []\n",
    "table = soup.find('table', attrs={'class':'wikitable sortable'})\n",
    "table_body = table.find('tbody')\n",
    "#print(table_body)\n",
    "\n",
    "# get the headers of the table and store in a list\n",
    "table_headers = []\n",
    "headers = table_body.find_all('th')\n",
    "for header in headers:\n",
    "    header_value = header.get_text().strip()\n",
    "    table_headers.append(header_value)\n",
    "\n",
    "# get the rows of the table\n",
    "rows = table_body.find_all('tr')\n",
    "for row in rows:\n",
    "    row_data = {}\n",
    "    cells = row.find_all('td')\n",
    "    for position, cell in enumerate(cells):\n",
    "        value = cell.get_text().strip()\n",
    "        key = table_headers[position]\n",
    "        # add the value to a dictionary\n",
    "        row_data[key] = value\n",
    "\n",
    "    # check that there is some data and that Borough is not unassigned\n",
    "    if row_data and row_data.get('Borough', '') != 'Not assigned':\n",
    "        data.append(row_data)\n",
    "\n"
   ],
   "metadata": {
    "collapsed": false,
    "pycharm": {
     "name": "#%%\n"
    }
   }
  },
  {
   "cell_type": "markdown",
   "source": [
    "load the data into a DataFrame"
   ],
   "metadata": {
    "collapsed": false
   }
  },
  {
   "cell_type": "code",
   "execution_count": null,
   "outputs": [],
   "source": [
    "df = pd.DataFrame(data)\n",
    "# rename the postal code heading\n",
    "df.rename(columns={\"Postal Code\": \"PostalCode\"}, inplace=True)\n",
    "df"
   ],
   "metadata": {
    "collapsed": false,
    "pycharm": {
     "name": "#%%\n"
    }
   }
  },
  {
   "cell_type": "code",
   "execution_count": null,
   "outputs": [],
   "source": [
    "# print the shape of the data\n",
    "df.shape"
   ],
   "metadata": {
    "collapsed": false,
    "pycharm": {
     "name": "#%%\n"
    }
   }
  },
  {
   "cell_type": "code",
   "execution_count": null,
   "outputs": [],
   "source": [
    "#import geocoder # import geocoder\n",
    "coordinate_data = {}\n",
    "with open('Geospatial_Coordinates.csv') as in_file:\n",
    "    data = csv.DictReader(in_file)\n",
    "    for row in data:\n",
    "        coordinate_data[row['Postal Code']] = {'longitude': row['Longitude'],\n",
    "                                               'latitude': row['Latitude']}\n",
    "\n",
    "def get_coordinates(postal_code):\n",
    "    ret = coordinate_data.get(postal_code, {})\n",
    "    latitude = ret.get('latitude')\n",
    "    longitude = ret.get('longitude')\n",
    "    return longitude, latitude"
   ],
   "metadata": {
    "collapsed": false,
    "pycharm": {
     "name": "#%%\n"
    }
   }
  },
  {
   "cell_type": "markdown",
   "source": [
    "get the longitude and latitude for each postcode\n",
    "\n"
   ],
   "metadata": {
    "collapsed": false
   }
  },
  {
   "cell_type": "code",
   "execution_count": null,
   "outputs": [],
   "source": [
    "longitude = []\n",
    "latitude = []\n",
    "\n",
    "for index, row in df.iterrows():\n",
    "    postal_code = row.get('PostalCode')\n",
    "    row_long, row_lat = get_coordinates(postal_code=postal_code)\n",
    "    longitude.append(row_long)\n",
    "    latitude.append(row_lat)\n",
    "\n",
    "df['Latitude'] = latitude\n",
    "df['Longitude'] = longitude"
   ],
   "metadata": {
    "collapsed": false,
    "pycharm": {
     "name": "#%%\n"
    }
   }
  },
  {
   "cell_type": "code",
   "execution_count": null,
   "outputs": [],
   "source": [
    "df\n",
    "\n"
   ],
   "metadata": {
    "collapsed": false,
    "pycharm": {
     "name": "#%%\n"
    }
   }
  }
 ],
 "metadata": {
  "kernelspec": {
   "display_name": "Python 3",
   "language": "python",
   "name": "python3"
  },
  "language_info": {
   "codemirror_mode": {
    "name": "ipython",
    "version": 2
   },
   "file_extension": ".py",
   "mimetype": "text/x-python",
   "name": "python",
   "nbconvert_exporter": "python",
   "pygments_lexer": "ipython2",
   "version": "2.7.6"
  }
 },
 "nbformat": 4,
 "nbformat_minor": 0
}